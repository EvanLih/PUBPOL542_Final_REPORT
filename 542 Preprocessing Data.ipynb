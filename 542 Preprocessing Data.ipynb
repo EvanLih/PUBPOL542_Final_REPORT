{
 "cells": [
  {
   "cell_type": "markdown",
   "metadata": {},
   "source": [
    "# Happiness, Inequality, and Mental Health Policy  Preprocessing the Data\n",
    "\n",
    "### Bingyao Zou, Aurora Deng, Andrew Golden\n",
    "\n",
    "-----"
   ]
  },
  {
   "cell_type": "markdown",
   "metadata": {},
   "source": [
    "# <font color=red> Introduction</font>\n",
    "### *Bacground*\n",
    "**Happiness** is a feeling that comes over you when life is good. According to current studies, six key variables are found to support happiness: income; healthy life expectancy; social support; freedom; trust; and generosity. Of these six predictors of happiness, the most important is income, which at the national level is measured as the Gross Domestic Product (GDP) or economic growth. We admit that economic security drives greater contentment, and thus leads to higher happiness scores. In more developed countries, however, economic growth may not buy citizens as much gains in well-being as poor countries.\n",
    "\n",
    "In this case, our group is assessing income in a different way—**Income Inequality & Economic Inequality**. We assume that if a country's economic growth is not equally distributed, it will lead to lower levels of happiness for its citizens. Moreover, a sense of fairness and trust is the cornerstone of community, and having satisfying social relationships in the community is essential to improving well-being.\n",
    "\n",
    "Before exploring the relationship between happiness and inequality, we need to rule out some potential impacts, among which the impact our group is focusing on comes from governments’ actions to improve happiness. It is well known that some countries provide **mental health support** in order to support their citizens, such as funding, coordination, legislation, the establishment of information systems, and the procurement and distribution of essential medicines. Given the huge influence of governmental efforts, our group decided to separate the countries with and without published mental health policies.\n",
    "\n",
    "In general, our group’s research topic is ***how inequality relates to reported happiness in countries with and without mental health programs.***\n"
   ]
  },
  {
   "cell_type": "markdown",
   "metadata": {},
   "source": [
    "### *Data and Variables*\n",
    "#### Happiness Score by Country\n",
    "- Description: The national happiness level based on respondents’ rating of their own lives\n",
    "- Source: 2019 United Nations World Happiness Report, using data collected by Gallup\n",
    "- Data Type: \n",
    "    - Numerical, from 0 to 100 \n",
    "    - Higher is better\n",
    "- Limitation: Happiness is hard to quantify and measure, which can mean different things to different people, and across cultures. Since there is no worldwide standard for happiness, the research associated with it is considered to be less reliable.\n",
    "\n",
    "#### GINI Index \n",
    "- Description: The degree of inequality in the distribution of family income in a country\n",
    "- Source: 2010 Central Intelligence Agency, The World Factbook \n",
    "- Data Type: \n",
    "    - Numerical, from 0 to 100\n",
    "    - Higher indicates greater inequality\n",
    "\n",
    "#### Mental Policies Summary\n",
    "- Description: Whether a country is in action for mental health\n",
    "- Source: 2017 World Health Organization (WHO)\n",
    "- Data Type: \n",
    "    - Binary, 0 or 1\n",
    "    - 1 indicates the country has at least one mental policy, 0 indicates no policy\n",
    "- Processing Detail: The original data lists the specific mental-health related public policies of each country. We define a new binary variable based on the summary so that we can see directly whether a country's government publishes their mental policy or not\n",
    "- Limitation: Binary variable can be in only one of two categories — either yes or no, so we can only learn if a country has a related policy. However, among these policies, some are heavily invested while some are still in the planning stage. In order to better distinguish their specific impacts on the happiness score, it would be useful to suggest a ladder which can represent the scale of these policies."
   ]
  },
  {
   "cell_type": "markdown",
   "metadata": {},
   "source": [
    "# <font color=red> Data Cleaning</font>"
   ]
  },
  {
   "cell_type": "markdown",
   "metadata": {},
   "source": [
    "Get the tables using pandas"
   ]
  },
  {
   "cell_type": "code",
   "execution_count": null,
   "metadata": {},
   "outputs": [],
   "source": [
    "import pandas as pd\n",
    "from urllib.request import urlopen"
   ]
  },
  {
   "cell_type": "code",
   "execution_count": 31,
   "metadata": {},
   "outputs": [],
   "source": [
    "gini=pd.read_pickle(urlopen(\"https://github.com/argolden/computational-governance/raw/master/gini.pkl\"),compression=None)\n",
    "happiness=pd.read_pickle(urlopen(\"https://github.com/Zoubyyy37/PUBPOL542Group/raw/master/2019happiness.pkl\"),compression=None)\n",
    "mentalhealth=pd.read_pickle(urlopen(\"https://github.com/auroraD-11/MyData/raw/master/MH1.pkl\"),compression=None)"
   ]
  },
  {
   "cell_type": "markdown",
   "metadata": {},
   "source": [
    "Check/Rename column names"
   ]
  },
  {
   "cell_type": "code",
   "execution_count": 34,
   "metadata": {},
   "outputs": [
    {
     "data": {
      "text/plain": [
       "Index(['Rank', 'Country', 'GINI', 'Year'], dtype='object')"
      ]
     },
     "execution_count": 34,
     "metadata": {},
     "output_type": "execute_result"
    }
   ],
   "source": [
    "gini.columns"
   ]
  },
  {
   "cell_type": "code",
   "execution_count": 5,
   "metadata": {},
   "outputs": [
    {
     "data": {
      "text/plain": [
       "Index(['countryorregion', 'scoreofhappiness'], dtype='object')"
      ]
     },
     "execution_count": 5,
     "metadata": {},
     "output_type": "execute_result"
    }
   ],
   "source": [
    "happiness.columns"
   ]
  },
  {
   "cell_type": "code",
   "execution_count": 6,
   "metadata": {
    "scrolled": true
   },
   "outputs": [
    {
     "data": {
      "text/plain": [
       "Index(['PUBLISHSTATES', 'Year', 'WHOregion', 'Country', 'Law',\n",
       "       'GovExpenditures', 'PolicyPlan', 'LawEnactedYear', 'PPPublicYear'],\n",
       "      dtype='object')"
      ]
     },
     "execution_count": 6,
     "metadata": {},
     "output_type": "execute_result"
    }
   ],
   "source": [
    "mentalhealth.columns"
   ]
  },
  {
   "cell_type": "code",
   "execution_count": 38,
   "metadata": {},
   "outputs": [],
   "source": [
    "#In order to have a common column \"country\" \n",
    "happiness.columns = ['Country', 'scoreofhappiness'] "
   ]
  },
  {
   "cell_type": "markdown",
   "metadata": {},
   "source": [
    "The original mentalhealth data has been recorded for multiple years. Our group decided to keep the latest record and droped previous data."
   ]
  },
  {
   "cell_type": "code",
   "execution_count": 44,
   "metadata": {},
   "outputs": [],
   "source": [
    "mentalhealth2 = mentalhealth[['Country','PolicyPlan','Year']]"
   ]
  },
  {
   "cell_type": "code",
   "execution_count": 45,
   "metadata": {},
   "outputs": [
    {
     "data": {
      "text/html": [
       "<div>\n",
       "<style scoped>\n",
       "    .dataframe tbody tr th:only-of-type {\n",
       "        vertical-align: middle;\n",
       "    }\n",
       "\n",
       "    .dataframe tbody tr th {\n",
       "        vertical-align: top;\n",
       "    }\n",
       "\n",
       "    .dataframe thead th {\n",
       "        text-align: right;\n",
       "    }\n",
       "</style>\n",
       "<table border=\"1\" class=\"dataframe\">\n",
       "  <thead>\n",
       "    <tr style=\"text-align: right;\">\n",
       "      <th></th>\n",
       "      <th>Country</th>\n",
       "      <th>PolicyPlan</th>\n",
       "      <th>Year</th>\n",
       "    </tr>\n",
       "  </thead>\n",
       "  <tbody>\n",
       "    <tr>\n",
       "      <td>286</td>\n",
       "      <td>Afghanistan</td>\n",
       "      <td>Yes</td>\n",
       "      <td>2016</td>\n",
       "    </tr>\n",
       "    <tr>\n",
       "      <td>152</td>\n",
       "      <td>Afghanistan</td>\n",
       "      <td>Yes</td>\n",
       "      <td>2014</td>\n",
       "    </tr>\n",
       "    <tr>\n",
       "      <td>110</td>\n",
       "      <td>Albania</td>\n",
       "      <td>Yes</td>\n",
       "      <td>2014</td>\n",
       "    </tr>\n",
       "    <tr>\n",
       "      <td>258</td>\n",
       "      <td>Albania</td>\n",
       "      <td>Yes</td>\n",
       "      <td>2016</td>\n",
       "    </tr>\n",
       "    <tr>\n",
       "      <td>57</td>\n",
       "      <td>Algeria</td>\n",
       "      <td>Yes</td>\n",
       "      <td>2014</td>\n",
       "    </tr>\n",
       "    <tr>\n",
       "      <td>...</td>\n",
       "      <td>...</td>\n",
       "      <td>...</td>\n",
       "      <td>...</td>\n",
       "    </tr>\n",
       "    <tr>\n",
       "      <td>160</td>\n",
       "      <td>Yemen</td>\n",
       "      <td>Yes</td>\n",
       "      <td>2014</td>\n",
       "    </tr>\n",
       "    <tr>\n",
       "      <td>223</td>\n",
       "      <td>Zambia</td>\n",
       "      <td>Yes</td>\n",
       "      <td>2016</td>\n",
       "    </tr>\n",
       "    <tr>\n",
       "      <td>55</td>\n",
       "      <td>Zambia</td>\n",
       "      <td>Yes</td>\n",
       "      <td>2014</td>\n",
       "    </tr>\n",
       "    <tr>\n",
       "      <td>46</td>\n",
       "      <td>Zimbabwe</td>\n",
       "      <td>Yes</td>\n",
       "      <td>2014</td>\n",
       "    </tr>\n",
       "    <tr>\n",
       "      <td>224</td>\n",
       "      <td>Zimbabwe</td>\n",
       "      <td>Yes</td>\n",
       "      <td>2016</td>\n",
       "    </tr>\n",
       "  </tbody>\n",
       "</table>\n",
       "<p>346 rows × 3 columns</p>\n",
       "</div>"
      ],
      "text/plain": [
       "         Country PolicyPlan  Year\n",
       "286  Afghanistan        Yes  2016\n",
       "152  Afghanistan        Yes  2014\n",
       "110      Albania        Yes  2014\n",
       "258      Albania        Yes  2016\n",
       "57       Algeria        Yes  2014\n",
       "..           ...        ...   ...\n",
       "160        Yemen        Yes  2014\n",
       "223       Zambia        Yes  2016\n",
       "55        Zambia        Yes  2014\n",
       "46      Zimbabwe        Yes  2014\n",
       "224     Zimbabwe        Yes  2016\n",
       "\n",
       "[346 rows x 3 columns]"
      ]
     },
     "execution_count": 45,
     "metadata": {},
     "output_type": "execute_result"
    }
   ],
   "source": [
    "mentalhealth2.sort_values('Country')"
   ]
  },
  {
   "cell_type": "code",
   "execution_count": 46,
   "metadata": {},
   "outputs": [],
   "source": [
    "mentalhealth3 = mentalhealth2.drop_duplicates(subset='Country', keep='first')"
   ]
  },
  {
   "cell_type": "code",
   "execution_count": 47,
   "metadata": {},
   "outputs": [],
   "source": [
    "mentalhealth4 = mentalhealth3[['Country','PolicyPlan']]"
   ]
  },
  {
   "cell_type": "markdown",
   "metadata": {},
   "source": [
    "# <font color=red> Data Integration</font>"
   ]
  },
  {
   "cell_type": "markdown",
   "metadata": {},
   "source": [
    "Merge gini data and happiness data and save the new data frame"
   ]
  },
  {
   "cell_type": "code",
   "execution_count": 8,
   "metadata": {},
   "outputs": [],
   "source": [
    "dirtymerge1=gini.merge(happiness,how='outer',indicator=True)"
   ]
  },
  {
   "cell_type": "code",
   "execution_count": 37,
   "metadata": {},
   "outputs": [
    {
     "data": {
      "text/plain": [
       "157             Czech Republic\n",
       "158       United Arab Emirates\n",
       "159                      Qatar\n",
       "160                    Bahrain\n",
       "161          Trinidad & Tobago\n",
       "162                     Kuwait\n",
       "163                South Korea\n",
       "164            Northern Cyprus\n",
       "165                      Libya\n",
       "166            North Macedonia\n",
       "167                    Lebanon\n",
       "168                Ivory Coast\n",
       "169        Congo (Brazzaville)\n",
       "170    Palestinian Territories\n",
       "171                    Somalia\n",
       "172                     Gambia\n",
       "173                       Iraq\n",
       "174           Congo (Kinshasa)\n",
       "175                    Myanmar\n",
       "176                  Swaziland\n",
       "177                      Syria\n",
       "178                Afghanistan\n",
       "Name: Country, dtype: object"
      ]
     },
     "execution_count": 37,
     "metadata": {},
     "output_type": "execute_result"
    }
   ],
   "source": [
    "#Request the countries where the happiness data frame found no match\n",
    "dirtymerge1.loc[dirtymerge1['_merge']=='right_only',\"Country\"]"
   ]
  },
  {
   "cell_type": "code",
   "execution_count": 39,
   "metadata": {},
   "outputs": [
    {
     "data": {
      "text/plain": [
       "2        Micronesia, Federated States of\n",
       "12                      Papua New Guinea\n",
       "16                              Eswatini\n",
       "17                           Gambia, The\n",
       "19                Congo, Republic of the\n",
       "40                                Guyana\n",
       "48                                Angola\n",
       "52     Congo, Democratic Republic of the\n",
       "55                         Cote d'Ivoire\n",
       "59                              Djibouti\n",
       "75                              Maldives\n",
       "89     Falkland Islands (Islas Malvinas)\n",
       "92                          Korea, South\n",
       "96                                 Macau\n",
       "100                            West Bank\n",
       "105                            Greenland\n",
       "109                            Macedonia\n",
       "121                          Timor-Leste\n",
       "126                       European Union\n",
       "127                Sao Tome and Principe\n",
       "150                              Czechia\n",
       "155                        Faroe Islands\n",
       "156                               Jersey\n",
       "Name: Country, dtype: object"
      ]
     },
     "execution_count": 39,
     "metadata": {},
     "output_type": "execute_result"
    }
   ],
   "source": [
    "#Request the countries where the gini data frame found no match\n",
    "dirtymerge1.loc[dirtymerge1['_merge']=='left_only',\"Country\"]"
   ]
  },
  {
   "cell_type": "code",
   "execution_count": 40,
   "metadata": {},
   "outputs": [],
   "source": [
    "#Improve the merge result\n",
    "replacements1={'Gambia, The': 'Gambia',\n",
    "              'Congo (Brazzaville)': 'Congo, Republic of the',\n",
    "              'Congo (Kinshasa)': 'Congo, Democratic Republic of the',\n",
    "              'Ivory Coast': \"Cote d'Ivoire\",\n",
    "              'Korea, South': 'South Korea',\n",
    "              'North Macedonia': \"Macedonia\",\n",
    "              'Czechia': 'Czech Republic'}"
   ]
  },
  {
   "cell_type": "code",
   "execution_count": 12,
   "metadata": {},
   "outputs": [],
   "source": [
    "happiness.Country.replace(replacements1,inplace=True)"
   ]
  },
  {
   "cell_type": "code",
   "execution_count": 13,
   "metadata": {},
   "outputs": [],
   "source": [
    "gini.Country.replace(replacements1,inplace=True)"
   ]
  },
  {
   "cell_type": "code",
   "execution_count": 14,
   "metadata": {},
   "outputs": [],
   "source": [
    "dirtyMerge2=gini.merge(happiness,left_on=\"Country\", right_on='Country',how='outer',indicator=True)"
   ]
  },
  {
   "cell_type": "code",
   "execution_count": 16,
   "metadata": {},
   "outputs": [
    {
     "data": {
      "text/html": [
       "<div>\n",
       "<style scoped>\n",
       "    .dataframe tbody tr th:only-of-type {\n",
       "        vertical-align: middle;\n",
       "    }\n",
       "\n",
       "    .dataframe tbody tr th {\n",
       "        vertical-align: top;\n",
       "    }\n",
       "\n",
       "    .dataframe thead th {\n",
       "        text-align: right;\n",
       "    }\n",
       "</style>\n",
       "<table border=\"1\" class=\"dataframe\">\n",
       "  <thead>\n",
       "    <tr style=\"text-align: right;\">\n",
       "      <th></th>\n",
       "      <th>Rank</th>\n",
       "      <th>Country</th>\n",
       "      <th>GINI</th>\n",
       "      <th>Year</th>\n",
       "      <th>scoreofhappiness</th>\n",
       "      <th>_merge</th>\n",
       "    </tr>\n",
       "  </thead>\n",
       "  <tbody>\n",
       "    <tr>\n",
       "      <td>0</td>\n",
       "      <td>1.0</td>\n",
       "      <td>Lesotho</td>\n",
       "      <td>63.2</td>\n",
       "      <td>1995</td>\n",
       "      <td>3.802</td>\n",
       "      <td>both</td>\n",
       "    </tr>\n",
       "    <tr>\n",
       "      <td>1</td>\n",
       "      <td>2.0</td>\n",
       "      <td>South Africa</td>\n",
       "      <td>62.5</td>\n",
       "      <td>2013</td>\n",
       "      <td>4.722</td>\n",
       "      <td>both</td>\n",
       "    </tr>\n",
       "    <tr>\n",
       "      <td>2</td>\n",
       "      <td>3.0</td>\n",
       "      <td>Micronesia, Federated States of</td>\n",
       "      <td>61.1</td>\n",
       "      <td>2013</td>\n",
       "      <td>NaN</td>\n",
       "      <td>left_only</td>\n",
       "    </tr>\n",
       "    <tr>\n",
       "      <td>3</td>\n",
       "      <td>4.0</td>\n",
       "      <td>Haiti</td>\n",
       "      <td>60.8</td>\n",
       "      <td>2012</td>\n",
       "      <td>3.597</td>\n",
       "      <td>both</td>\n",
       "    </tr>\n",
       "    <tr>\n",
       "      <td>4</td>\n",
       "      <td>5.0</td>\n",
       "      <td>Botswana</td>\n",
       "      <td>60.5</td>\n",
       "      <td>2009</td>\n",
       "      <td>3.488</td>\n",
       "      <td>both</td>\n",
       "    </tr>\n",
       "    <tr>\n",
       "      <td>...</td>\n",
       "      <td>...</td>\n",
       "      <td>...</td>\n",
       "      <td>...</td>\n",
       "      <td>...</td>\n",
       "      <td>...</td>\n",
       "      <td>...</td>\n",
       "    </tr>\n",
       "    <tr>\n",
       "      <td>167</td>\n",
       "      <td>NaN</td>\n",
       "      <td>Iraq</td>\n",
       "      <td>NaN</td>\n",
       "      <td>NaN</td>\n",
       "      <td>4.437</td>\n",
       "      <td>right_only</td>\n",
       "    </tr>\n",
       "    <tr>\n",
       "      <td>168</td>\n",
       "      <td>NaN</td>\n",
       "      <td>Myanmar</td>\n",
       "      <td>NaN</td>\n",
       "      <td>NaN</td>\n",
       "      <td>4.360</td>\n",
       "      <td>right_only</td>\n",
       "    </tr>\n",
       "    <tr>\n",
       "      <td>169</td>\n",
       "      <td>NaN</td>\n",
       "      <td>Swaziland</td>\n",
       "      <td>NaN</td>\n",
       "      <td>NaN</td>\n",
       "      <td>4.212</td>\n",
       "      <td>right_only</td>\n",
       "    </tr>\n",
       "    <tr>\n",
       "      <td>170</td>\n",
       "      <td>NaN</td>\n",
       "      <td>Syria</td>\n",
       "      <td>NaN</td>\n",
       "      <td>NaN</td>\n",
       "      <td>3.462</td>\n",
       "      <td>right_only</td>\n",
       "    </tr>\n",
       "    <tr>\n",
       "      <td>171</td>\n",
       "      <td>NaN</td>\n",
       "      <td>Afghanistan</td>\n",
       "      <td>NaN</td>\n",
       "      <td>NaN</td>\n",
       "      <td>3.203</td>\n",
       "      <td>right_only</td>\n",
       "    </tr>\n",
       "  </tbody>\n",
       "</table>\n",
       "<p>172 rows × 6 columns</p>\n",
       "</div>"
      ],
      "text/plain": [
       "     Rank                          Country  GINI  Year  scoreofhappiness  \\\n",
       "0     1.0                          Lesotho  63.2  1995             3.802   \n",
       "1     2.0                     South Africa  62.5  2013             4.722   \n",
       "2     3.0  Micronesia, Federated States of  61.1  2013               NaN   \n",
       "3     4.0                            Haiti  60.8  2012             3.597   \n",
       "4     5.0                         Botswana  60.5  2009             3.488   \n",
       "..    ...                              ...   ...   ...               ...   \n",
       "167   NaN                             Iraq   NaN   NaN             4.437   \n",
       "168   NaN                          Myanmar   NaN   NaN             4.360   \n",
       "169   NaN                        Swaziland   NaN   NaN             4.212   \n",
       "170   NaN                            Syria   NaN   NaN             3.462   \n",
       "171   NaN                      Afghanistan   NaN   NaN             3.203   \n",
       "\n",
       "         _merge  \n",
       "0          both  \n",
       "1          both  \n",
       "2     left_only  \n",
       "3          both  \n",
       "4          both  \n",
       "..          ...  \n",
       "167  right_only  \n",
       "168  right_only  \n",
       "169  right_only  \n",
       "170  right_only  \n",
       "171  right_only  \n",
       "\n",
       "[172 rows x 6 columns]"
      ]
     },
     "execution_count": 16,
     "metadata": {},
     "output_type": "execute_result"
    }
   ],
   "source": [
    "dirtyMerge2"
   ]
  },
  {
   "cell_type": "markdown",
   "metadata": {},
   "source": [
    "Merge mental policy data and previously merged data and save the new data frame"
   ]
  },
  {
   "cell_type": "code",
   "execution_count": 22,
   "metadata": {},
   "outputs": [],
   "source": [
    "dirtyMerge3=dirtyMerge2.merge(mentalhealth4, on='Country')"
   ]
  },
  {
   "cell_type": "markdown",
   "metadata": {},
   "source": [
    "Our group's Data Frame: "
   ]
  },
  {
   "cell_type": "code",
   "execution_count": 24,
   "metadata": {},
   "outputs": [],
   "source": [
    "df2=dirtyMerge3[['Country','GINI','scoreofhappiness','PolicyPlan']]"
   ]
  },
  {
   "cell_type": "code",
   "execution_count": 26,
   "metadata": {},
   "outputs": [],
   "source": [
    "#Drop the missiving value\n",
    "dffinal=df2.dropna()"
   ]
  },
  {
   "cell_type": "code",
   "execution_count": 27,
   "metadata": {
    "scrolled": true
   },
   "outputs": [
    {
     "data": {
      "text/html": [
       "<div>\n",
       "<style scoped>\n",
       "    .dataframe tbody tr th:only-of-type {\n",
       "        vertical-align: middle;\n",
       "    }\n",
       "\n",
       "    .dataframe tbody tr th {\n",
       "        vertical-align: top;\n",
       "    }\n",
       "\n",
       "    .dataframe thead th {\n",
       "        text-align: right;\n",
       "    }\n",
       "</style>\n",
       "<table border=\"1\" class=\"dataframe\">\n",
       "  <thead>\n",
       "    <tr style=\"text-align: right;\">\n",
       "      <th></th>\n",
       "      <th>Country</th>\n",
       "      <th>GINI</th>\n",
       "      <th>scoreofhappiness</th>\n",
       "      <th>PolicyPlan</th>\n",
       "    </tr>\n",
       "  </thead>\n",
       "  <tbody>\n",
       "    <tr>\n",
       "      <td>0</td>\n",
       "      <td>Lesotho</td>\n",
       "      <td>63.2</td>\n",
       "      <td>3.802</td>\n",
       "      <td>No</td>\n",
       "    </tr>\n",
       "    <tr>\n",
       "      <td>1</td>\n",
       "      <td>South Africa</td>\n",
       "      <td>62.5</td>\n",
       "      <td>4.722</td>\n",
       "      <td>Yes</td>\n",
       "    </tr>\n",
       "    <tr>\n",
       "      <td>2</td>\n",
       "      <td>Haiti</td>\n",
       "      <td>60.8</td>\n",
       "      <td>3.597</td>\n",
       "      <td>No</td>\n",
       "    </tr>\n",
       "    <tr>\n",
       "      <td>3</td>\n",
       "      <td>Botswana</td>\n",
       "      <td>60.5</td>\n",
       "      <td>3.488</td>\n",
       "      <td>Yes</td>\n",
       "    </tr>\n",
       "    <tr>\n",
       "      <td>4</td>\n",
       "      <td>Namibia</td>\n",
       "      <td>59.7</td>\n",
       "      <td>4.639</td>\n",
       "      <td>Yes</td>\n",
       "    </tr>\n",
       "    <tr>\n",
       "      <td>...</td>\n",
       "      <td>...</td>\n",
       "      <td>...</td>\n",
       "      <td>...</td>\n",
       "      <td>...</td>\n",
       "    </tr>\n",
       "    <tr>\n",
       "      <td>124</td>\n",
       "      <td>Belgium</td>\n",
       "      <td>25.9</td>\n",
       "      <td>6.923</td>\n",
       "      <td>Yes</td>\n",
       "    </tr>\n",
       "    <tr>\n",
       "      <td>125</td>\n",
       "      <td>Ukraine</td>\n",
       "      <td>25.5</td>\n",
       "      <td>4.332</td>\n",
       "      <td>No</td>\n",
       "    </tr>\n",
       "    <tr>\n",
       "      <td>126</td>\n",
       "      <td>Sweden</td>\n",
       "      <td>24.9</td>\n",
       "      <td>7.343</td>\n",
       "      <td>Yes</td>\n",
       "    </tr>\n",
       "    <tr>\n",
       "      <td>127</td>\n",
       "      <td>Slovenia</td>\n",
       "      <td>24.4</td>\n",
       "      <td>6.118</td>\n",
       "      <td>No</td>\n",
       "    </tr>\n",
       "    <tr>\n",
       "      <td>128</td>\n",
       "      <td>Slovakia</td>\n",
       "      <td>23.7</td>\n",
       "      <td>6.198</td>\n",
       "      <td>Yes</td>\n",
       "    </tr>\n",
       "  </tbody>\n",
       "</table>\n",
       "<p>121 rows × 4 columns</p>\n",
       "</div>"
      ],
      "text/plain": [
       "          Country  GINI  scoreofhappiness PolicyPlan\n",
       "0         Lesotho  63.2             3.802         No\n",
       "1    South Africa  62.5             4.722        Yes\n",
       "2           Haiti  60.8             3.597         No\n",
       "3        Botswana  60.5             3.488        Yes\n",
       "4         Namibia  59.7             4.639        Yes\n",
       "..            ...   ...               ...        ...\n",
       "124       Belgium  25.9             6.923        Yes\n",
       "125       Ukraine  25.5             4.332         No\n",
       "126        Sweden  24.9             7.343        Yes\n",
       "127      Slovenia  24.4             6.118         No\n",
       "128      Slovakia  23.7             6.198        Yes\n",
       "\n",
       "[121 rows x 4 columns]"
      ]
     },
     "execution_count": 27,
     "metadata": {},
     "output_type": "execute_result"
    }
   ],
   "source": [
    "dffinal"
   ]
  },
  {
   "cell_type": "markdown",
   "metadata": {},
   "source": [
    "# <font color=red> Saving File to Disk</font>\n",
    "**For future use in R**"
   ]
  },
  {
   "cell_type": "code",
   "execution_count": 28,
   "metadata": {},
   "outputs": [],
   "source": [
    "dffinal.to_pickle(\"dffinal.pkl\")"
   ]
  },
  {
   "cell_type": "code",
   "execution_count": 29,
   "metadata": {},
   "outputs": [
    {
     "name": "stderr",
     "output_type": "stream",
     "text": [
      "/opt/anaconda3/lib/python3.7/site-packages/rpy2/robjects/vectors.py:927: UserWarning: R object inheriting from \"POSIXct\" but without attribute \"tzone\".\n",
      "  warnings.warn('R object inheriting from \"POSIXct\" but without '\n"
     ]
    },
    {
     "data": {
      "text/plain": [
       "<rpy2.rinterface.NULLType object at 0x126f38fa0> [RTYPES.NILSXP]"
      ]
     },
     "execution_count": 29,
     "metadata": {},
     "output_type": "execute_result"
    }
   ],
   "source": [
    "from rpy2.robjects import pandas2ri\n",
    "pandas2ri.activate()\n",
    "\n",
    "from rpy2.robjects.packages import importr\n",
    "\n",
    "base = importr('base')\n",
    "base.saveRDS(dffinal,file=\"dffinal.RDS\")"
   ]
  }
 ],
 "metadata": {
  "kernelspec": {
   "display_name": "Python 3",
   "language": "python",
   "name": "python3"
  },
  "language_info": {
   "codemirror_mode": {
    "name": "ipython",
    "version": 3
   },
   "file_extension": ".py",
   "mimetype": "text/x-python",
   "name": "python",
   "nbconvert_exporter": "python",
   "pygments_lexer": "ipython3",
   "version": "3.7.4"
  }
 },
 "nbformat": 4,
 "nbformat_minor": 2
}
